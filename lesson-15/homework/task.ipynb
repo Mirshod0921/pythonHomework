{
 "cells": [
  {
   "cell_type": "code",
   "execution_count": 1,
   "metadata": {},
   "outputs": [
    {
     "name": "stdout",
     "output_type": "stream",
     "text": [
      "[10 11 12 13 14 15 16 17 18 19 20 21 22 23 24 25 26 27 28 29 30 31 32 33\n",
      " 34 35 36 37 38 39 40 41 42 43 44 45 46 47 48 49]\n",
      "[[0 1 2]\n",
      " [3 4 5]\n",
      " [6 7 8]]\n",
      "[[1. 0. 0.]\n",
      " [0. 1. 0.]\n",
      " [0. 0. 1.]]\n"
     ]
    }
   ],
   "source": [
    "import numpy as np\n",
    "#1\n",
    "array = np.arange(10, 50)\n",
    "print(array)\n",
    "#2\n",
    "array2 = np.arange(0, 9).reshape(3, 3)\n",
    "print(array2)\n",
    "\n",
    "#3\n",
    "array3 = np.eye(3, 3)\n",
    "print(array3)"
   ]
  },
  {
   "cell_type": "code",
   "execution_count": 2,
   "metadata": {},
   "outputs": [
    {
     "data": {
      "text/plain": [
       "array([[[0.75785915, 0.24431915, 0.4444428 ],\n",
       "        [0.07771439, 0.61347885, 0.41145224],\n",
       "        [0.98570233, 0.02403399, 0.26403069]],\n",
       "\n",
       "       [[0.03734698, 0.58603915, 0.80905889],\n",
       "        [0.36205401, 0.76945072, 0.27088987],\n",
       "        [0.63819486, 0.38991001, 0.40649597]],\n",
       "\n",
       "       [[0.98464267, 0.00234734, 0.69441266],\n",
       "        [0.66408914, 0.67164992, 0.88609726],\n",
       "        [0.61390612, 0.87675345, 0.56595127]]])"
      ]
     },
     "execution_count": 2,
     "metadata": {},
     "output_type": "execute_result"
    }
   ],
   "source": [
    "np.random.rand(3, 3, 3)"
   ]
  },
  {
   "cell_type": "code",
   "execution_count": 3,
   "metadata": {},
   "outputs": [
    {
     "name": "stdout",
     "output_type": "stream",
     "text": [
      "0.015624184410499065\n"
     ]
    },
    {
     "data": {
      "text/plain": [
       "np.float64(0.9904757192913981)"
      ]
     },
     "execution_count": 3,
     "metadata": {},
     "output_type": "execute_result"
    }
   ],
   "source": [
    "array5 = np.random.rand(10, 10)\n",
    "print(array5.min())\n",
    "array5.max()"
   ]
  },
  {
   "cell_type": "code",
   "execution_count": 4,
   "metadata": {},
   "outputs": [
    {
     "name": "stdout",
     "output_type": "stream",
     "text": [
      "0.5518317297553761\n"
     ]
    }
   ],
   "source": [
    "array6 = np.random.rand(30)\n",
    "print(array6.mean())"
   ]
  },
  {
   "cell_type": "code",
   "execution_count": 6,
   "metadata": {},
   "outputs": [
    {
     "data": {
      "text/plain": [
       "array([[ 0.47154843, -0.07859618,  0.32316062, -0.02493984,  0.31185774],\n",
       "       [-0.39442947,  0.27003509, -0.28259365,  0.4612363 , -0.44429869],\n",
       "       [ 0.05215403, -0.34674051, -0.39966771, -0.42682668, -0.12890882],\n",
       "       [ 0.38603323,  0.07663688, -0.10166061, -0.12261729,  0.55570131],\n",
       "       [-0.06009624,  0.13367281, -0.24994238,  0.0547491 , -0.03546748]])"
      ]
     },
     "execution_count": 6,
     "metadata": {},
     "output_type": "execute_result"
    }
   ],
   "source": [
    "array7 = np.random.rand(5, 5)\n",
    "norm = (array7 - array7.mean())/(array7.max()-array7.min())\n",
    "norm"
   ]
  },
  {
   "cell_type": "code",
   "execution_count": 7,
   "metadata": {},
   "outputs": [
    {
     "data": {
      "text/plain": [
       "array([[0.17435706, 0.88947091],\n",
       "       [0.68717528, 0.94946287],\n",
       "       [0.58083658, 1.23117369],\n",
       "       [0.61785095, 1.15633268],\n",
       "       [0.78724935, 1.24616643]])"
      ]
     },
     "execution_count": 7,
     "metadata": {},
     "output_type": "execute_result"
    }
   ],
   "source": [
    "matrix1 = np.random.rand(5, 3)\n",
    "matrix2 = np.random.rand(3, 2)\n",
    "result = np.dot(matrix1, matrix2)\n",
    "result"
   ]
  },
  {
   "cell_type": "code",
   "execution_count": 13,
   "metadata": {},
   "outputs": [
    {
     "data": {
      "text/plain": [
       "array([[0.47858431, 0.51228682, 0.38094489],\n",
       "       [0.40989063, 0.71499441, 0.49178197],\n",
       "       [1.19904535, 1.37978579, 0.60468655]])"
      ]
     },
     "execution_count": 13,
     "metadata": {},
     "output_type": "execute_result"
    }
   ],
   "source": [
    "matrix3 = np.random.rand(3, 3)\n",
    "matrix4 = np.random.rand(3, 3)\n",
    "np.dot(matrix4, matrix3)"
   ]
  },
  {
   "cell_type": "code",
   "execution_count": 14,
   "metadata": {},
   "outputs": [
    {
     "data": {
      "text/plain": [
       "array([[ 0,  4,  8, 12],\n",
       "       [ 1,  5,  9, 13],\n",
       "       [ 2,  6, 10, 14],\n",
       "       [ 3,  7, 11, 15]])"
      ]
     },
     "execution_count": 14,
     "metadata": {},
     "output_type": "execute_result"
    }
   ],
   "source": [
    "matrix5 = np.arange(16).reshape(4, 4)\n",
    "matrix5.transpose()"
   ]
  },
  {
   "cell_type": "code",
   "execution_count": 16,
   "metadata": {},
   "outputs": [
    {
     "data": {
      "text/plain": [
       "np.float64(0.12078442653696249)"
      ]
     },
     "execution_count": 16,
     "metadata": {},
     "output_type": "execute_result"
    }
   ],
   "source": [
    "np.linalg.det(matrix3)"
   ]
  },
  {
   "cell_type": "code",
   "execution_count": 17,
   "metadata": {},
   "outputs": [
    {
     "data": {
      "text/plain": [
       "array([[0.76872834, 1.27564268, 0.57215758],\n",
       "       [0.86328749, 1.42527507, 0.62165488],\n",
       "       [1.24822326, 1.85145303, 0.90093679]])"
      ]
     },
     "execution_count": 17,
     "metadata": {},
     "output_type": "execute_result"
    }
   ],
   "source": [
    "matrix_A = np.random.rand(3, 4)\n",
    "matrix_B = np.random.rand(4, 3)\n",
    "\n",
    "result = np.dot(matrix_A, matrix_B)\n",
    "result"
   ]
  },
  {
   "cell_type": "code",
   "execution_count": 21,
   "metadata": {},
   "outputs": [],
   "source": [
    "matrix = np.random.randint(1, 10, (3, 3))\n",
    "vector = np.random.randint(1, 10, (3, 1))\n",
    "\n",
    "product = np.dot(matrix, vector)\n",
    "\n"
   ]
  },
  {
   "cell_type": "code",
   "execution_count": 22,
   "metadata": {},
   "outputs": [
    {
     "data": {
      "text/plain": [
       "array([[-0.10283688],\n",
       "       [ 0.31560284],\n",
       "       [ 0.93971631]])"
      ]
     },
     "execution_count": 22,
     "metadata": {},
     "output_type": "execute_result"
    }
   ],
   "source": [
    "np.linalg.solve(matrix, vector)"
   ]
  },
  {
   "cell_type": "code",
   "execution_count": 26,
   "metadata": {},
   "outputs": [
    {
     "name": "stdout",
     "output_type": "stream",
     "text": [
      "[81 60 68 90 94]\n",
      "[70 59 90 88 86]\n"
     ]
    }
   ],
   "source": [
    "matrix6 = np.random.randint(1, 26, (5, 5))\n",
    "#print(matrix6)\n",
    "print(matrix6.sum(axis=0))\n",
    "print(matrix6.sum(axis=1))"
   ]
  }
 ],
 "metadata": {
  "kernelspec": {
   "display_name": "Python 3",
   "language": "python",
   "name": "python3"
  },
  "language_info": {
   "codemirror_mode": {
    "name": "ipython",
    "version": 3
   },
   "file_extension": ".py",
   "mimetype": "text/x-python",
   "name": "python",
   "nbconvert_exporter": "python",
   "pygments_lexer": "ipython3",
   "version": "3.12.5"
  }
 },
 "nbformat": 4,
 "nbformat_minor": 2
}
